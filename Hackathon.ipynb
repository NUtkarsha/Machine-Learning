{
 "cells": [
  {
   "cell_type": "code",
   "execution_count": 1,
   "id": "4ab9cf01",
   "metadata": {},
   "outputs": [],
   "source": [
    "# import necessary liberaries\n",
    "import numpy as np\n",
    "import pandas as pd\n",
    "import matplotlib.pyplot as plt\n",
    "import seaborn as sns\n",
    "from sklearn.model_selection import train_test_split,GridSearchCV\n"
   ]
  },
  {
   "cell_type": "code",
   "execution_count": 2,
   "id": "b04aaf9c",
   "metadata": {},
   "outputs": [
    {
     "data": {
      "text/html": [
       "<div>\n",
       "<style scoped>\n",
       "    .dataframe tbody tr th:only-of-type {\n",
       "        vertical-align: middle;\n",
       "    }\n",
       "\n",
       "    .dataframe tbody tr th {\n",
       "        vertical-align: top;\n",
       "    }\n",
       "\n",
       "    .dataframe thead th {\n",
       "        text-align: right;\n",
       "    }\n",
       "</style>\n",
       "<table border=\"1\" class=\"dataframe\">\n",
       "  <thead>\n",
       "    <tr style=\"text-align: right;\">\n",
       "      <th></th>\n",
       "      <th>input</th>\n",
       "      <th>output</th>\n",
       "    </tr>\n",
       "  </thead>\n",
       "  <tbody>\n",
       "    <tr>\n",
       "      <th>0</th>\n",
       "      <td>-122.740667</td>\n",
       "      <td>-130.572085</td>\n",
       "    </tr>\n",
       "    <tr>\n",
       "      <th>1</th>\n",
       "      <td>-121.531419</td>\n",
       "      <td>-129.938929</td>\n",
       "    </tr>\n",
       "    <tr>\n",
       "      <th>2</th>\n",
       "      <td>-134.917019</td>\n",
       "      <td>-130.141832</td>\n",
       "    </tr>\n",
       "    <tr>\n",
       "      <th>3</th>\n",
       "      <td>-120.605951</td>\n",
       "      <td>-125.760932</td>\n",
       "    </tr>\n",
       "    <tr>\n",
       "      <th>4</th>\n",
       "      <td>-129.894781</td>\n",
       "      <td>-112.785214</td>\n",
       "    </tr>\n",
       "  </tbody>\n",
       "</table>\n",
       "</div>"
      ],
      "text/plain": [
       "        input      output\n",
       "0 -122.740667 -130.572085\n",
       "1 -121.531419 -129.938929\n",
       "2 -134.917019 -130.141832\n",
       "3 -120.605951 -125.760932\n",
       "4 -129.894781 -112.785214"
      ]
     },
     "execution_count": 2,
     "metadata": {},
     "output_type": "execute_result"
    }
   ],
   "source": [
    "# read the data\n",
    "df = pd.read_csv(\"C:\\\\Users\\\\utkar\\\\Downloads\\\\dataframe_.csv\")\n",
    "df.head()"
   ]
  },
  {
   "cell_type": "code",
   "execution_count": 3,
   "id": "ff72d353",
   "metadata": {},
   "outputs": [
    {
     "data": {
      "text/plain": [
       "(1697, 2)"
      ]
     },
     "execution_count": 3,
     "metadata": {},
     "output_type": "execute_result"
    }
   ],
   "source": [
    "df.shape"
   ]
  },
  {
   "cell_type": "code",
   "execution_count": 4,
   "id": "e88b78ae",
   "metadata": {},
   "outputs": [
    {
     "data": {
      "text/plain": [
       "input     1\n",
       "output    1\n",
       "dtype: int64"
      ]
     },
     "execution_count": 4,
     "metadata": {},
     "output_type": "execute_result"
    }
   ],
   "source": [
    "# to find null values  \n",
    "df.isna().sum()"
   ]
  },
  {
   "cell_type": "markdown",
   "id": "47d76fc0",
   "metadata": {},
   "source": [
    "**we have 2 null values present in the dataset since it is only one row it is better to drop that insted of fill the value using some technic**"
   ]
  },
  {
   "cell_type": "code",
   "execution_count": 5,
   "id": "f7a599a4",
   "metadata": {},
   "outputs": [],
   "source": [
    "# drop null value \n",
    "df = df.dropna()\n",
    "\n"
   ]
  },
  {
   "cell_type": "code",
   "execution_count": 6,
   "id": "c625662a",
   "metadata": {},
   "outputs": [
    {
     "data": {
      "text/plain": [
       "0"
      ]
     },
     "execution_count": 6,
     "metadata": {},
     "output_type": "execute_result"
    }
   ],
   "source": [
    "df.isna().sum().sum()"
   ]
  },
  {
   "cell_type": "code",
   "execution_count": 7,
   "id": "4903d2d1",
   "metadata": {},
   "outputs": [
    {
     "data": {
      "text/plain": [
       "(1696, 2)"
      ]
     },
     "execution_count": 7,
     "metadata": {},
     "output_type": "execute_result"
    }
   ],
   "source": [
    "df.shape"
   ]
  },
  {
   "cell_type": "raw",
   "id": "bfdc0c83",
   "metadata": {},
   "source": [
    "# check if duplicates present in dataset\n",
    "df.duplicated().sum()"
   ]
  },
  {
   "cell_type": "code",
   "execution_count": 8,
   "id": "0c343867",
   "metadata": {},
   "outputs": [
    {
     "name": "stderr",
     "output_type": "stream",
     "text": [
      "C:\\Users\\utkar\\anaconda3\\lib\\site-packages\\seaborn\\_decorators.py:36: FutureWarning: Pass the following variable as a keyword arg: x. From version 0.12, the only valid positional argument will be `data`, and passing other arguments without an explicit keyword will result in an error or misinterpretation.\n",
      "  warnings.warn(\n"
     ]
    },
    {
     "data": {
      "image/png": "[encoded data removed]",
      "text/plain": [
       "<Figure size 432x288 with 1 Axes>"
      ]
     },
     "metadata": {
      "needs_background": "light"
     },
     "output_type": "display_data"
    }
   ],
   "source": [
    "sns.boxplot(df['input'])\n",
    "plt.show()"
   ]
  },
  {
   "cell_type": "code",
   "execution_count": 9,
   "id": "279fba2a",
   "metadata": {},
   "outputs": [
    {
     "name": "stderr",
     "output_type": "stream",
     "text": [
      "C:\\Users\\utkar\\anaconda3\\lib\\site-packages\\seaborn\\_decorators.py:36: FutureWarning: Pass the following variable as a keyword arg: x. From version 0.12, the only valid positional argument will be `data`, and passing other arguments without an explicit keyword will result in an error or misinterpretation.\n",
      "  warnings.warn(\n"
     ]
    },
    {
     "data": {
      "image/png": "[encoded data removed]",
      "text/plain": [
       "<Figure size 432x288 with 1 Axes>"
      ]
     },
     "metadata": {
      "needs_background": "light"
     },
     "output_type": "display_data"
    }
   ],
   "source": [
    "sns.boxplot(df['output'])\n",
    "plt.show()"
   ]
  },
  {
   "cell_type": "markdown",
   "id": "ec05efbf",
   "metadata": {},
   "source": [
    "**Here are some outliers present in output column we need to handle this**"
   ]
  },
  {
   "cell_type": "code",
   "execution_count": 10,
   "id": "9e84e110",
   "metadata": {},
   "outputs": [
    {
     "name": "stdout",
     "output_type": "stream",
     "text": [
      "input     133.650615\n",
      "output     69.026767\n",
      "dtype: float64\n"
     ]
    }
   ],
   "source": [
    "# Calculate IQR\n",
    "df_outliers = pd.DataFrame(df.loc[:,])\n",
    "Q1 = df_outliers.quantile(0.25)\n",
    "Q3 = df_outliers.quantile(0.75)\n",
    "IQR = Q3 - Q1\n",
    "\n",
    "print(IQR)"
   ]
  },
  {
   "cell_type": "code",
   "execution_count": 11,
   "id": "955de35b",
   "metadata": {},
   "outputs": [],
   "source": [
    "# replace the outliers using upper whisker and lower whisker\n",
    "for i, j in zip(np.where(df_outliers > Q3 + 1.5 * IQR)[0], np.where(df_outliers > Q3 + 1.5 * IQR)[1]):\n",
    "    \n",
    "    whisker  = Q3 + 1.5 * IQR\n",
    "    df_outliers.iloc[i,j] = whisker[j] \n",
    "    \n",
    "for i, j in zip(np.where(df_outliers < Q1 - 1.5 * IQR)[0], np.where(df_outliers < Q1 - 1.5 * IQR)[1]): \n",
    "    \n",
    "    whisker  = Q1 - 1.5 * IQR\n",
    "    df_outliers.iloc[i,j] = whisker[j]"
   ]
  },
  {
   "cell_type": "code",
   "execution_count": 12,
   "id": "9b631074",
   "metadata": {},
   "outputs": [],
   "source": [
    "df.drop(columns = df.loc[:,], inplace = True)"
   ]
  },
  {
   "cell_type": "code",
   "execution_count": 13,
   "id": "f0c1bda0",
   "metadata": {},
   "outputs": [],
   "source": [
    "# concate the data with replaced outlier values\n",
    "df = pd.concat([df, df_outliers], axis = 1)"
   ]
  },
  {
   "cell_type": "code",
   "execution_count": 14,
   "id": "d17bbd84",
   "metadata": {},
   "outputs": [
    {
     "data": {
      "image/png": "[encoded data removed]",
      "text/plain": [
       "<Figure size 576x432 with 1 Axes>"
      ]
     },
     "metadata": {
      "needs_background": "light"
     },
     "output_type": "display_data"
    }
   ],
   "source": [
    "# Create a boxplot to see outliers\n",
    "df.boxplot(column = ['input', 'output'], rot=45, figsize = (8,6))\n",
    "plt.show()"
   ]
  },
  {
   "cell_type": "markdown",
   "id": "e778b588",
   "metadata": {},
   "source": [
    "**We can clearly see that there is no outlier is remaining in the dataset**"
   ]
  },
  {
   "cell_type": "code",
   "execution_count": 15,
   "id": "360dfa89",
   "metadata": {},
   "outputs": [
    {
     "name": "stderr",
     "output_type": "stream",
     "text": [
      "C:\\Users\\utkar\\anaconda3\\lib\\site-packages\\seaborn\\distributions.py:2619: FutureWarning: `distplot` is a deprecated function and will be removed in a future version. Please adapt your code to use either `displot` (a figure-level function with similar flexibility) or `histplot` (an axes-level function for histograms).\n",
      "  warnings.warn(msg, FutureWarning)\n",
      "C:\\Users\\utkar\\anaconda3\\lib\\site-packages\\seaborn\\distributions.py:2103: FutureWarning: The `axis` variable is no longer used and will be removed. Instead, assign variables directly to `x` or `y`.\n",
      "  warnings.warn(msg, FutureWarning)\n"
     ]
    },
    {
     "data": {
      "image/png": "[encoded data removed]",
      "text/plain": [
       "<Figure size 720x432 with 1 Axes>"
      ]
     },
     "metadata": {
      "needs_background": "light"
     },
     "output_type": "display_data"
    }
   ],
   "source": [
    "plt.figure(figsize=(10,6))\n",
    "sns.distplot(df[\"output\"],color=\"b\",rug=True)\n",
    "plt.axvline(df[\"output\"].mean(), linestyle=\"dashed\",color=\"k\", label='mean',linewidth=2)\n",
    "plt.legend()\n",
    "plt.xlabel(\"Output\", fontdict={'fontsize':12})\n",
    "plt.title(\"Output distribution\",fontdict={'fontsize':20, 'color':'Black', 'fontweight':'bold'})\n",
    "plt.show()"
   ]
  },
  {
   "cell_type": "code",
   "execution_count": 16,
   "id": "f04fbd91",
   "metadata": {},
   "outputs": [
    {
     "name": "stderr",
     "output_type": "stream",
     "text": [
      "C:\\Users\\utkar\\anaconda3\\lib\\site-packages\\seaborn\\distributions.py:2619: FutureWarning: `distplot` is a deprecated function and will be removed in a future version. Please adapt your code to use either `displot` (a figure-level function with similar flexibility) or `histplot` (an axes-level function for histograms).\n",
      "  warnings.warn(msg, FutureWarning)\n",
      "C:\\Users\\utkar\\anaconda3\\lib\\site-packages\\seaborn\\distributions.py:2103: FutureWarning: The `axis` variable is no longer used and will be removed. Instead, assign variables directly to `x` or `y`.\n",
      "  warnings.warn(msg, FutureWarning)\n"
     ]
    },
    {
     "data": {
      "image/png": "[encoded data removed]",
      "text/plain": [
       "<Figure size 720x432 with 1 Axes>"
      ]
     },
     "metadata": {
      "needs_background": "light"
     },
     "output_type": "display_data"
    }
   ],
   "source": [
    "plt.figure(figsize=(10,6))\n",
    "sns.distplot(df[\"input\"],color=\"r\",rug=True)\n",
    "plt.axvline(df[\"input\"].mean(), linestyle=\"dashed\",color=\"k\", label='mean',linewidth=2)\n",
    "plt.xlabel(\"Input\", fontdict={'fontsize':12})\n",
    "plt.title(\"Input distribution\",fontdict={'fontsize':20, 'color':'Black', 'fontweight':'bold'})\n",
    "plt.legend()\n",
    "plt.show()"
   ]
  },
  {
   "cell_type": "markdown",
   "id": "23e9141b",
   "metadata": {},
   "source": [
    "**Here we can see that variables are not normally distributed, we need to handle this also , we wil use standard scaler for proper distribution**"
   ]
  },
  {
   "cell_type": "code",
   "execution_count": 17,
   "id": "8dacdeb2",
   "metadata": {},
   "outputs": [],
   "source": [
    "# Splitting of data\n",
    "X = df.drop(columns='output')\n",
    "y= df['output']"
   ]
  },
  {
   "cell_type": "code",
   "execution_count": 18,
   "id": "5548686e",
   "metadata": {},
   "outputs": [],
   "source": [
    "from sklearn.preprocessing import StandardScaler\n",
    "scaler = StandardScaler()\n",
    "X= scaler.fit_transform(X)"
   ]
  },
  {
   "cell_type": "code",
   "execution_count": 19,
   "id": "14ab0e50",
   "metadata": {},
   "outputs": [],
   "source": [
    "# Division of data into training and testing\n",
    "from sklearn.model_selection import train_test_split\n",
    "X_train, X_test, y_train, y_test = train_test_split(X, y, test_size = 0.30, random_state = 13)"
   ]
  },
  {
   "cell_type": "code",
   "execution_count": 20,
   "id": "86f7de75",
   "metadata": {},
   "outputs": [
    {
     "name": "stdout",
     "output_type": "stream",
     "text": [
      "(1187, 1)\n",
      "(509, 1)\n",
      "(1187,)\n",
      "(509,)\n"
     ]
    }
   ],
   "source": [
    "print(X_train.shape)\n",
    "print(X_test.shape)\n",
    "print(y_train.shape)\n",
    "print(y_test.shape)"
   ]
  },
  {
   "cell_type": "code",
   "execution_count": 21,
   "id": "e92647a6",
   "metadata": {},
   "outputs": [
    {
     "name": "stdout",
     "output_type": "stream",
     "text": [
      "------------------------------\n",
      "R2:  0.28254999298494865\n",
      "Root Mean Squared Error:  50.61009288571184\n"
     ]
    }
   ],
   "source": [
    "Linear regression\n",
    "from sklearn.linear_model import LinearRegression\n",
    "from sklearn.metrics import r2_score, mean_squared_error\n",
    "\n",
    "lr_params = {\n",
    "    'fit_intercept': [True, False],\n",
    "}\n",
    "\n",
    "lr = LinearRegression() \n",
    "\n",
    "rs = GridSearchCV(estimator=lr, param_grid=lr_params, cv=10, n_jobs=-1, scoring='neg_mean_squared_error')\n",
    "rs.fit(X_train, y_train)\n",
    "\n",
    "\n",
    "lr.fit(X_train, y_train)\n",
    "pred_lr = lr.predict(X_test)\n",
    "\n",
    "print('-'*30)\n",
    "r2 = r2_score(y_test, pred_lr)\n",
    "print('R2: ', r2)\n",
    "err = np.sqrt(mean_squared_error(y_test, pred_lr))\n",
    "print('Root Mean Squared Error: ', err)\n",
    "\n",
    "knn_reg = ('Linear regression', r2, err)"
   ]
  },
  {
   "cell_type": "code",
   "execution_count": 22,
   "id": "6c52b41b",
   "metadata": {},
   "outputs": [
    {
     "name": "stdout",
     "output_type": "stream",
     "text": [
      "KNeighborsRegressor(n_neighbors=9, p=1, weights='distance')\n",
      "------------------------------\n",
      "R2:  0.6953441125460391\n",
      "Root Mean Squared Error:  32.97965437260173\n"
     ]
    }
   ],
   "source": [
    "# knn\n",
    "from sklearn.neighbors import KNeighborsRegressor\n",
    "params = {\n",
    "    'n_neighbors': [9],  \n",
    "    'weights': ['distance'],  \n",
    "    'p': [1] \n",
    "    }\n",
    "\n",
    "knn = KNeighborsRegressor()\n",
    "\n",
    "rs = GridSearchCV(estimator=knn, param_grid=params, cv=10, n_jobs=-1, scoring='neg_mean_squared_error')\n",
    "rs.fit(X_train, y_train)\n",
    "\n",
    "print(rs.best_estimator_)\n",
    "knn = rs.best_estimator_\n",
    "\n",
    "knn.fit(X_train, y_train)\n",
    "pred = knn.predict(X_test)\n",
    "\n",
    "print('-'*30)\n",
    "r2 = r2_score(y_test, pred)\n",
    "print('R2: ', r2)\n",
    "err = np.sqrt(mean_squared_error(y_test, pred))\n",
    "print('Root Mean Squared Error: ', err)\n",
    "\n",
    "knn_reg = ('KNN', r2, err)"
   ]
  },
  {
   "cell_type": "code",
   "execution_count": 23,
   "id": "d761eed7",
   "metadata": {},
   "outputs": [
    {
     "name": "stdout",
     "output_type": "stream",
     "text": [
      "DecisionTreeRegressor(max_depth=7, min_samples_leaf=7, min_samples_split=0.1)\n",
      "------------------------------\n",
      "R2:  0.7123068709371471\n",
      "Root Mean Squared Error:  32.04837821110115\n"
     ]
    }
   ],
   "source": [
    "# Decision tree regressor\n",
    "from sklearn.tree import DecisionTreeRegressor\n",
    "params1 = {'max_depth': [7], \n",
    "           'min_samples_leaf': [7], \n",
    "          'min_samples_split': [0.1], \n",
    "    \n",
    "         }\n",
    "\n",
    "tree = DecisionTreeRegressor()\n",
    "rs = GridSearchCV(estimator=tree, param_grid=params1, cv=5, n_jobs=-1, scoring='neg_mean_squared_error')\n",
    "rs.fit(X_train, y_train)\n",
    "print(rs.best_estimator_)\n",
    "\n",
    "tree = rs.best_estimator_\n",
    "tree.fit(X_train, y_train)\n",
    "pred1 = tree.predict(X_test)\n",
    "\n",
    "print('-'*30)\n",
    "r2 = r2_score(y_test, pred1)\n",
    "print('R2: ', r2)\n",
    "err = np.sqrt(mean_squared_error(y_test, pred1))\n",
    "print('Root Mean Squared Error: ', err)\n",
    "decision_tree = ('Tree', r2, err)"
   ]
  },
  {
   "cell_type": "code",
   "execution_count": 24,
   "id": "c9efa6a5",
   "metadata": {},
   "outputs": [
    {
     "name": "stdout",
     "output_type": "stream",
     "text": [
      "RandomForestRegressor(max_depth=8, min_samples_leaf=4, min_samples_split=0.01,\n",
      "                      n_estimators=1000)\n",
      "------------------------------\n",
      "R2:  0.7172443824848032\n",
      "Root Mean Squared Error:  31.772174066681107\n"
     ]
    }
   ],
   "source": [
    "# random forest regressor\n",
    "from sklearn.ensemble import RandomForestRegressor\n",
    "params2 = { \n",
    "          'n_estimators': [1000],\n",
    "          'max_depth': [8],                 \n",
    "         'min_samples_leaf': [4],           \n",
    "          'min_samples_split' : [0.01],      \n",
    "         }\n",
    "\n",
    "rf = RandomForestRegressor()\n",
    "rs = GridSearchCV(estimator=rf, param_grid=params2, cv=5, n_jobs=-1, scoring='neg_mean_squared_error')\n",
    "rs.fit(X_train,y_train)\n",
    "print(rs.best_estimator_)\n",
    "rf = rs.best_estimator_\n",
    "rf.fit(X_train, y_train)\n",
    "pred2 = rf.predict(X_test)\n",
    "print('-'*30)\n",
    "r2 = r2_score(y_test, pred2)\n",
    "print('R2: ', r2)\n",
    "err = np.sqrt(mean_squared_error(y_test, pred2))\n",
    "print('Root Mean Squared Error: ', err)\n",
    "random_forest = ('Random Forest', r2, err)"
   ]
  },
  {
   "cell_type": "markdown",
   "id": "487d96c1",
   "metadata": {},
   "source": [
    "**From the above four models random forest regressor is best model for this dataset**"
   ]
  }
 ],
 "metadata": {
  "kernelspec": {
   "display_name": "Python 3 (ipykernel)",
   "language": "python",
   "name": "python3"
  },
  "language_info": {
   "codemirror_mode": {
    "name": "ipython",
    "version": 3
   },
   "file_extension": ".py",
   "mimetype": "text/x-python",
   "name": "python",
   "nbconvert_exporter": "python",
   "pygments_lexer": "ipython3",
   "version": "3.9.7"
  }
 },
 "nbformat": 4,
 "nbformat_minor": 5
}
